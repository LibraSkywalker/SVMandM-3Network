{
 "cells": [
  {
   "cell_type": "markdown",
   "metadata": {},
   "source": [
    "## Task 1\n",
    "#### Plain SVM"
   ]
  },
  {
   "cell_type": "code",
   "execution_count": 2,
   "metadata": {},
   "outputs": [
    {
     "name": "stdout",
     "output_type": "stream",
     "text": [
      "train: 11.983612298965454 s predict: 4.485473871231079 s\n",
      "Accuracy = 96.49870322341609 % ( 36463 / 37786 )\n",
      "F1 = 0.9264083723001558\n",
      "ROC:\n"
     ]
    },
    {
     "data": {
      "image/png": "[encoded data removed]",
      "text/plain": [
       "<matplotlib.figure.Figure at 0x7f41be5bdf60>"
      ]
     },
     "metadata": {},
     "output_type": "display_data"
    }
   ],
   "source": [
    "from utility.core import *\n",
    "import seaborn\n",
    "import matplotlib.pyplot as plt\n",
    "\n",
    "if (__name__ == \"__main__\") :\n",
    "    data = list(readNtranslate(\"./data/train.txt\")) + list(readNtranslate(\"./data/test.txt\"))\n",
    "    p_vals = trainNpredict(data)\n",
    "\n",
    "    print('train:',p_vals[-1][0],'s','predict:',p_vals[-1][1],'s')\n",
    "    p_vals.pop()\n",
    "    p_vals.pop()\n",
    "    \n",
    "    threshold = [-8,-4,4,8]\t\t\n",
    "\n",
    "    for i in range(-20,20,2) :\n",
    "        threshold.append(i / 10)\n",
    "\n",
    "    threshold.sort()\n",
    "    \n",
    "    result_label = list(map(getLabel,p_vals,[0] * len(p_vals))) \n",
    "    Evaluation(result_label,data[2])\n",
    "\n",
    "    print(\"ROC:\")\n",
    "    x = []\n",
    "    y = []\n",
    "    for i in range(len(threshold)):\n",
    "        result_label = list(map(getLabel,p_vals,[threshold[i]] * len(p_vals))) \n",
    "        now_y,now_x = Evaluation(result_label,data[2],False)  \n",
    "        x.append(now_x)\n",
    "        y.append(now_y)\n",
    "    plt.plot(x,y,linestyle='-',color='green',marker='x')\n",
    "    plt.show()"
   ]
  },
  {
   "cell_type": "markdown",
   "metadata": {},
   "source": [
    "## Task 2\n",
    "#### Random Shuffle SVM + Min Max Modular Network\n"
   ]
  },
  {
   "cell_type": "code",
   "execution_count": 3,
   "metadata": {},
   "outputs": [
    {
     "name": "stdout",
     "output_type": "stream",
     "text": [
      "process: 0 train: 6.859338760375977 s predict: 4.978607654571533 s\n",
      "process: 1 train: 6.841753959655762 s predict: 5.012355804443359 s\n",
      "process: 2 train: 6.880698204040527 s predict: 4.7549755573272705 s\n",
      "process: 3 train: 6.794092416763306 s predict: 4.744239330291748 s\n",
      "Accuracy = 96.33462128830784 % ( 36401 / 37786 )\n",
      "F1 = 0.9227247347850364\n",
      "ROC:\n"
     ]
    },
    {
     "data": {
      "image/png": "[encoded data removed]",
      "text/plain": [
       "<matplotlib.figure.Figure at 0x7f414c44fac8>"
      ]
     },
     "metadata": {},
     "output_type": "display_data"
    }
   ],
   "source": [
    "from liblinearutil import *\n",
    "from functools import reduce\n",
    "from utility.core import *\n",
    "from multiprocessing import Pool as ThreadPool\n",
    "\n",
    "if __name__ == '__main__': \n",
    "    label,features = readNtranslate(\"./data/train.txt\")\n",
    "    test_label,test_features = readNtranslate(\"./data/test.txt\")\n",
    "\n",
    "    label,features = random_shuffle(label,features)\n",
    "\n",
    "    train_label = []\n",
    "    train_features = []\n",
    "\n",
    "    length = len(label)\n",
    "\n",
    "    group = 4\n",
    "    half = group // 2\n",
    "    group_size = length // group\n",
    "    pair = half * half\n",
    "\n",
    "    data = []\n",
    "\n",
    "    for i in range(group) :\n",
    "        train_label.append(label[i * group_size : (i + 1) * group_size])\n",
    "        train_features.append(features[i * group_size :(i + 1) * group_size])\n",
    "\n",
    "    for i in range(half) :\n",
    "        for j in range(half) :\n",
    "\n",
    "            data.append([train_label[i] + train_label[j + half], \n",
    "                        train_features[i] + train_features[j + half], \n",
    "                        test_label,\n",
    "                        test_features])\n",
    "\n",
    "    pool = ThreadPool(4)\n",
    "    p_vals = pool.map(trainNpredict,data)\n",
    "\n",
    "    pool.close()\n",
    "    pool.join()\n",
    "\n",
    "    for i in range(half * half):\n",
    "        print('process:',i,'train:',p_vals[i][-1][0],'s','predict:',p_vals[i][-1][1],'s')\n",
    "        p_vals[i].pop()\n",
    "        p_vals[i].pop()\n",
    "\n",
    "    result_label = minmax(half,half,p_vals,0)\n",
    "    Evaluation(result_label,test_label)\n",
    "\n",
    "    threshold = [-8,-4,4,8]\n",
    "    for i in range(-20,20,2) :\n",
    "        threshold.append(i / 10)\n",
    "    threshold.sort()\n",
    "\n",
    "    print(\"ROC:\")\n",
    "    x = []\n",
    "    y = []\n",
    "    for i in range(len(threshold)):\n",
    "        result_label = minmax(half,half,p_vals,threshold[i])\n",
    "        now_y,now_x = Evaluation(result_label,test_label,False)\n",
    "        x.append(now_x)\n",
    "        y.append(now_y)\n",
    "    plt.plot(x,y,linestyle='-',color='blue',marker='x')\n",
    "    plt.show()"
   ]
  },
  {
   "cell_type": "markdown",
   "metadata": {},
   "source": [
    "## Task 3\n",
    "#### Classified by Knowledge SVM + Min Max Modular Network"
   ]
  },
  {
   "cell_type": "code",
   "execution_count": 4,
   "metadata": {},
   "outputs": [
    {
     "name": "stdout",
     "output_type": "stream",
     "text": [
      "process 0 train: 18.51394772529602 s predict: 61.00024890899658 s\n",
      "process 1 train: 18.044525384902954 s predict: 63.35466527938843 s\n",
      "process 2 train: 20.9883713722229 s predict: 62.15897607803345 s\n",
      "process 3 train: 21.363049745559692 s predict: 61.16891646385193 s\n",
      "Accuracy = 96.79246281691631 % ( 36574 / 37786 )\n",
      "F1 = 0.9327861579414375\n",
      "ROC:\n"
     ]
    },
    {
     "data": {
      "image/png": "[encoded data removed]",
      "text/plain": [
       "<matplotlib.figure.Figure at 0x7f40f7d7c630>"
      ]
     },
     "metadata": {},
     "output_type": "display_data"
    }
   ],
   "source": [
    "from liblinearutil import *\n",
    "from functools import reduce\n",
    "import time\n",
    "from utility.core import *\n",
    "from multiprocessing import Pool as ThreadPool\n",
    "import matplotlib.pyplot as plt\n",
    "\n",
    "if __name__ == '__main__': \n",
    "\n",
    "    train_label,train_features = read_problem(\"./data/train.txt\")\n",
    "    train_label = list(map(relabel,train_label))\n",
    "\n",
    "    test_label,test_features = read_problem(\"./data/test.txt\")\n",
    "    digit_label = list(map(relabel,test_label))\n",
    "    test_label = list(map(translate,test_label))\n",
    "    test_len = len(test_label)\n",
    "\n",
    "    segment = []\n",
    "    l = 0\n",
    "    total = len(train_label)\n",
    "    for i in range(total) :\n",
    "        if (i == total - 1 or train_label[i] != train_label[i + 1]) :\n",
    "            segment.append((l,i,train_label[i]))\n",
    "            l = i\n",
    "\n",
    "    train_label = list(map(translate,train_label))\n",
    "\n",
    "    pos = 4\n",
    "    neg = 12\n",
    "\n",
    "    data = []\n",
    "    for i in range(pos) :\n",
    "        for j in range(neg) :\n",
    "            li,ri,tmp = segment[i]\n",
    "            lj,rj,tmp = segment[pos + j]\n",
    "            index = neg * i + j\n",
    "            data.append([\n",
    "                train_label[li:ri] + train_label[lj:rj],\n",
    "                train_features[li:ri] + train_features[lj:rj],\n",
    "                test_label,\n",
    "                test_features,\n",
    "                index]\n",
    "            )\n",
    "\n",
    "    pool = ThreadPool(4)\n",
    "    p_vals = pool.map(trainNpredict,data)\n",
    "\n",
    "\n",
    "    pool.close()\n",
    "    pool.join()\n",
    "\n",
    "    p_vals.sort(key = lambda label:label[-2])\n",
    "\n",
    "    running_time = dict()\n",
    "    for i in range(pos * neg):\n",
    "        #print('process',i,'train:',p_vals[i][-1][0],'s','predict:',p_vals[i][-1][1],'s')\n",
    "        training_time = p_vals[i][-1][0]\n",
    "        predicting_time = p_vals[i][-1][1]\n",
    "        ID = p_vals[i][-1][2]\n",
    "        if ID not in running_time:\n",
    "            running_time[ID] = [0,0]\n",
    "        running_time[ID][0] += training_time\n",
    "        running_time[ID][1] += predicting_time\n",
    "        p_vals[i].pop()\n",
    "        p_vals[i].pop()\n",
    "\n",
    "    i = 0\n",
    "    for time in running_time.values() :\n",
    "        print('process',i,'train:',time[0],'s','predict:',time[1],'s')\n",
    "        i = i + 1\n",
    "    \n",
    "    result_label = minmax(pos,neg,p_vals,0)\n",
    "    Evaluation(result_label,test_label)\n",
    "\n",
    "    threshold = [-8,-4,4,8]\n",
    "\n",
    "    for i in range(-20,20,2) :\n",
    "        threshold.append(i / 10)\n",
    "\n",
    "    threshold.sort()\n",
    "\n",
    "    print(\"ROC:\")\n",
    "    x = []\n",
    "    y = []\n",
    "    for i in range(len(threshold)):\n",
    "        result_label = minmax(pos,neg,p_vals,threshold[i])\n",
    "        now_y,now_x = Evaluation(result_label,test_label,False)\n",
    "        x.append(now_x)\n",
    "        y.append(now_y)\n",
    "    plt.plot(x,y,linestyle='-',color='red',marker='.')\n",
    "    plt.show()\n"
   ]
  },
  {
   "cell_type": "code",
   "execution_count": null,
   "metadata": {
    "collapsed": true
   },
   "outputs": [],
   "source": []
  }
 ],
 "metadata": {
  "kernelspec": {
   "display_name": "Python 3",
   "language": "python",
   "name": "python3"
  },
  "language_info": {
   "codemirror_mode": {
    "name": "ipython",
    "version": 3
   },
   "file_extension": ".py",
   "mimetype": "text/x-python",
   "name": "python",
   "nbconvert_exporter": "python",
   "pygments_lexer": "ipython3",
   "version": "3.5.2"
  }
 },
 "nbformat": 4,
 "nbformat_minor": 2
}
